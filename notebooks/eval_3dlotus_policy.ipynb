{
 "cells": [
  {
   "cell_type": "markdown",
   "id": "84f5fbdb-5d58-46e5-8920-cbcf034bea18",
   "metadata": {},
   "source": [
    "# 3D-LOTUS policy"
   ]
  },
  {
   "cell_type": "markdown",
   "id": "d8652380-7511-449b-bcd3-87818fe29c93",
   "metadata": {},
   "source": [
    "This notebook shows an example to run the trained 3D-LOTUS policy on the RLBench simulator. \n",
    "\n",
    "Before starting, make sure that you have followed the instructions in [our Github repository](https://github.com/vlc-robot/robot-3dlotus?tab=readme-ov-file) to setup the environment and download our pretrained models."
   ]
  },
  {
   "cell_type": "code",
   "execution_count": 1,
   "id": "77a59b94",
   "metadata": {},
   "outputs": [
    {
     "data": {
      "text/plain": [
       "<CDLL '/home/uhcc/Desktop/robot-3dlotus/CoppeliaSim_Edu_V4_1_0_Ubuntu20_04/libcoppeliaSim.so.1', handle 33f22ee0 at 0x7f706c77bf10>"
      ]
     },
     "execution_count": 1,
     "metadata": {},
     "output_type": "execute_result"
    }
   ],
   "source": [
    "import os\n",
    "import ctypes\n",
    "\n",
    "# Set LD_LIBRARY_PATH (optional but good practice)\n",
    "os.environ['LD_LIBRARY_PATH'] = \"/home/uhcc/Desktop/robot-3dlotus/CoppeliaSim_Edu_V4_1_0_Ubuntu20_04:\" + os.environ.get('LD_LIBRARY_PATH', '')\n",
    "\n",
    "# Force-load the shared library using full path\n",
    "ctypes.CDLL(\"/home/uhcc/Desktop/robot-3dlotus/CoppeliaSim_Edu_V4_1_0_Ubuntu20_04/libcoppeliaSim.so.1\")\n"
   ]
  },
  {
   "cell_type": "code",
   "execution_count": 2,
   "id": "a43b67fe-337f-4a65-8cba-572323e0ad27",
   "metadata": {},
   "outputs": [
    {
     "name": "stdout",
     "output_type": "stream",
     "text": [
      "Jupyter environment detected. Enabling Open3D WebVisualizer.\n",
      "[Open3D INFO] WebRTC GUI backend enabled.\n",
      "[Open3D INFO] WebRTCWindowSystem: HTTP handshake server disabled.\n"
     ]
    }
   ],
   "source": [
    "import os\n",
    "import numpy as np\n",
    "from easydict import EasyDict\n",
    "import matplotlib.pyplot as plt\n",
    "\n",
    "from genrobo3d.rlbench.environments import RLBenchEnv, Mover\n",
    "from rlbench.backend.utils import task_file_to_task_class\n",
    "from pyrep.errors import IKError, ConfigurationPathError\n",
    "from rlbench.backend.exceptions import InvalidActionError\n",
    "\n",
    "from genrobo3d.train.utils.misc import set_random_seed\n",
    "from genrobo3d.evaluation.eval_simple_policy import Actioner"
   ]
  },
  {
   "cell_type": "code",
   "execution_count": 3,
   "id": "45b91b44-82f6-49e2-82a3-b355c2cb56cc",
   "metadata": {},
   "outputs": [],
   "source": [
    "os.chdir('..') # locate in the robot-3dlotus directory"
   ]
  },
  {
   "cell_type": "markdown",
   "id": "8338bb58-3630-4989-b6e6-2a50703f2546",
   "metadata": {},
   "source": [
    "## Build the model"
   ]
  },
  {
   "cell_type": "code",
   "execution_count": 4,
   "id": "6b83c5a9-6b8b-4c45-8576-8d60c94f01e6",
   "metadata": {},
   "outputs": [],
   "source": [
    "seed = 100\n",
    "\n",
    "model_args = EasyDict(\n",
    "    exp_config='data/experiments/gembench/3dlotus/v1/logs/training_config.yaml',\n",
    "    checkpoint='data/experiments/gembench/3dlotus/v1/ckpts/model_step_40000.pt',\n",
    "    device='cuda',\n",
    "    real_robot=False,\n",
    "    save_obs_outs_dir=None,\n",
    "    best_disc_pos='max',\n",
    "    num_ensembles=1,\n",
    "    remained_args={},\n",
    ")"
   ]
  },
  {
   "cell_type": "code",
   "execution_count": 5,
   "id": "7c6c12f5-9026-4eba-8b7b-07f45ba062b3",
   "metadata": {},
   "outputs": [],
   "source": [
    "set_random_seed(seed)\n",
    "actioner = Actioner(model_args)"
   ]
  },
  {
   "cell_type": "markdown",
   "id": "712a7699-85a3-4ac9-ade2-74b64ffe47a9",
   "metadata": {},
   "source": [
    "## Build RLBench environment"
   ]
  },
  {
   "cell_type": "code",
   "execution_count": 6,
   "id": "54bb62eb-f175-4f9f-8b3d-3c8412213a3f",
   "metadata": {},
   "outputs": [],
   "source": [
    "taskvar = 'push_button+0'\n",
    "task_str, variation_id = taskvar.split('+')\n",
    "variation_id = int(variation_id)"
   ]
  },
  {
   "cell_type": "code",
   "execution_count": 7,
   "id": "23cdfe22-a14f-4419-bf1f-c0c912b91c54",
   "metadata": {},
   "outputs": [],
   "source": [
    "image_size = [256, 256]\n",
    "mover_max_tries = 10\n",
    "max_steps = 25"
   ]
  },
  {
   "cell_type": "code",
   "execution_count": 8,
   "id": "6fb14e56-9609-41fa-8485-d82ce4d37742",
   "metadata": {},
   "outputs": [],
   "source": [
    "env = RLBenchEnv(\n",
    "    data_path='',\n",
    "    apply_rgb=True,\n",
    "    apply_pc=True,\n",
    "    apply_mask=True,\n",
    "    headless=True, # Changed 'True'\n",
    "    image_size=image_size,\n",
    "    cam_rand_factor=0,\n",
    ")"
   ]
  },
  {
   "cell_type": "code",
   "execution_count": 9,
   "id": "2b23b629-695a-43b2-8fee-e622c7ba73ab",
   "metadata": {},
   "outputs": [
    {
     "ename": "",
     "evalue": "",
     "output_type": "error",
     "traceback": [
      "\u001b[1;31mThe Kernel crashed while executing code in the current cell or a previous cell. \n",
      "\u001b[1;31mPlease review the code in the cell(s) to identify a possible cause of the failure. \n",
      "\u001b[1;31mClick <a href='https://aka.ms/vscodeJupyterKernelCrash'>here</a> for more info. \n",
      "\u001b[1;31mView Jupyter <a href='command:jupyter.viewOutput'>log</a> for further details."
     ]
    }
   ],
   "source": [
    "env.env.launch()\n",
    "task_type = task_file_to_task_class(task_str)\n",
    "task = env.env.get_task(task_type)\n",
    "task.set_variation(variation_id)\n",
    "\n",
    "move = Mover(task, max_tries=mover_max_tries)\n"
   ]
  },
  {
   "cell_type": "markdown",
   "id": "523273e6-3371-4f09-963d-c09193855c10",
   "metadata": {},
   "source": [
    "## Run policy"
   ]
  },
  {
   "cell_type": "code",
   "execution_count": null,
   "id": "1d61dae1-11b4-43e5-b087-d81aea2fa3af",
   "metadata": {},
   "outputs": [],
   "source": [
    "demo_id = 0\n",
    "\n",
    "instructions, obs = task.reset()\n",
    "\n",
    "print('Instructions:', instructions)\n",
    "\n",
    "print('Initial observation')\n",
    "plt.imshow(np.concatenate([obs.left_shoulder_rgb, obs.right_shoulder_rgb, obs.wrist_rgb, obs.front_rgb], 1))\n",
    "plt.show()"
   ]
  },
  {
   "cell_type": "code",
   "execution_count": null,
   "id": "39720fc4-9485-4740-8341-2568bb3dde38",
   "metadata": {},
   "outputs": [],
   "source": [
    "obs_state_dict = env.get_observation(obs)\n",
    "move.reset(obs_state_dict['gripper'])"
   ]
  },
  {
   "cell_type": "code",
   "execution_count": null,
   "id": "b8e5e44a-cbdb-42ea-99bb-cebf94682fce",
   "metadata": {},
   "outputs": [],
   "source": [
    "for step_id in range(max_steps):\n",
    "    # fetch the current observation, and predict one action\n",
    "    batch = {\n",
    "        'task_str': task_str,\n",
    "        'variation': variation_id,\n",
    "        'step_id': step_id,\n",
    "        'obs_state_dict': obs_state_dict,\n",
    "        'episode_id': demo_id,\n",
    "        'instructions': instructions,\n",
    "    }\n",
    "\n",
    "    output = actioner.predict(**batch)\n",
    "    action = output[\"action\"]\n",
    "\n",
    "    if action is None:\n",
    "        break\n",
    "\n",
    "    # update the observation based on the predicted action\n",
    "    try:\n",
    "        obs, reward, terminate, _ = move(action, verbose=False)\n",
    "        print('Step id:', step_id+1)\n",
    "        plt.imshow(np.concatenate([obs.left_shoulder_rgb, obs.right_shoulder_rgb, obs.wrist_rgb, obs.front_rgb], 1))\n",
    "        plt.show()\n",
    "        \n",
    "        obs_state_dict = env.get_observation(obs)  # type: ignore\n",
    "\n",
    "        if reward == 1:\n",
    "            break\n",
    "        if terminate:\n",
    "            print(\"The episode has terminated!\")\n",
    "    except (IKError, ConfigurationPathError, InvalidActionError) as e:\n",
    "        print(taskvar, demo_id, step_id, e)\n",
    "        reward = 0\n",
    "        break\n",
    "\n",
    "print('Reward:', reward)"
   ]
  },
  {
   "cell_type": "code",
   "execution_count": null,
   "id": "2e78baf9-91f0-4bb0-acc8-fee54b37c744",
   "metadata": {},
   "outputs": [],
   "source": [
    "env.env.shutdown()"
   ]
  },
  {
   "cell_type": "code",
   "execution_count": null,
   "id": "17734280-f2e0-4411-93a6-e20450bac709",
   "metadata": {},
   "outputs": [],
   "source": []
  }
 ],
 "metadata": {
  "kernelspec": {
   "display_name": "gembench",
   "language": "python",
   "name": "python3"
  },
  "language_info": {
   "codemirror_mode": {
    "name": "ipython",
    "version": 3
   },
   "file_extension": ".py",
   "mimetype": "text/x-python",
   "name": "python",
   "nbconvert_exporter": "python",
   "pygments_lexer": "ipython3",
   "version": "3.10.16"
  }
 },
 "nbformat": 4,
 "nbformat_minor": 5
}
